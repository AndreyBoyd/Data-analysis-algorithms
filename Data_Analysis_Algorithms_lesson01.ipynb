{
 "cells": [
  {
   "cell_type": "code",
   "execution_count": 50,
   "metadata": {},
   "outputs": [],
   "source": [
    "import numpy as np\n",
    "import matplotlib.pyplot as plt"
   ]
  },
  {
   "cell_type": "markdown",
   "metadata": {},
   "source": [
    "##### 1. Подберите скорость обучения (alpha) и количество итераций:"
   ]
  },
  {
   "cell_type": "code",
   "execution_count": 51,
   "metadata": {},
   "outputs": [],
   "source": [
    "#Пространство признаков для объекта (стаж репетиторы)\n",
    "X = np.array([[1, 1, 1, 1, 1, 1, 1, 1, 1, 1],\n",
    "              [1, 1, 2, 1, 3, 0, 5, 10, 1, 2]])\n",
    "\n",
    "# Целевая переменная (средний балл ЕГЭ)\n",
    "y = [45, 55, 50, 59, 65, 35, 75, 80, 50, 60]"
   ]
  },
  {
   "cell_type": "code",
   "execution_count": 52,
   "metadata": {},
   "outputs": [
    {
     "data": {
      "text/plain": [
       "(array([1. , 0.5]), 0.001)"
      ]
     },
     "execution_count": 52,
     "metadata": {},
     "output_type": "execute_result"
    }
   ],
   "source": [
    "n = X.shape[1]\n",
    "alpha = 1e-3\n",
    "W = np.array([1, 0.5])\n",
    "W, alpha"
   ]
  },
  {
   "cell_type": "code",
   "execution_count": 53,
   "metadata": {},
   "outputs": [
    {
     "data": {
      "text/plain": [
       "<matplotlib.collections.PathCollection at 0x27334745b20>"
      ]
     },
     "execution_count": 53,
     "metadata": {},
     "output_type": "execute_result"
    },
    {
     "data": {
      "image/png": "[encoded data removed]",
      "text/plain": [
       "<Figure size 432x288 with 1 Axes>"
      ]
     },
     "metadata": {
      "needs_background": "light"
     },
     "output_type": "display_data"
    }
   ],
   "source": [
    "plt.scatter(X[1,:], y)"
   ]
  },
  {
   "cell_type": "code",
   "execution_count": 54,
   "metadata": {},
   "outputs": [],
   "source": [
    "def calc_mse(y, y_pred):\n",
    "    err = np.mean((y - y_pred)**2)\n",
    "    return err"
   ]
  },
  {
   "cell_type": "code",
   "execution_count": 55,
   "metadata": {
    "scrolled": true
   },
   "outputs": [
    {
     "name": "stdout",
     "output_type": "stream",
     "text": [
      "0 [1.1102 0.84  ] 3173.15\n",
      "2000 [41.73215361  4.92632937] 62.2342399245102\n",
      "4000 [46.54546925  4.03751382] 46.19152576288303\n",
      "6000 [47.14641166  3.92654521] 45.94145963171208\n",
      "8000 [47.22143932  3.91269078] 45.937561720839334\n",
      "10000 [47.23080652  3.91096105] 45.93750096207482\n",
      "12000 [47.23197602  3.91074509] 45.937500014996345\n",
      "14000 [47.23212203  3.91071813] 45.93750000023376\n",
      "16000 [47.23214026  3.91071477] 45.93750000000364\n",
      "18000 [47.23214253  3.91071435] 45.937500000000036\n",
      "18532 [47.23214267  3.91071432] 45.93749999999999\n"
     ]
    }
   ],
   "source": [
    "for i in range(1000000): # вводим число итераций заведомо больше необходимого\n",
    "    y_pred = np.dot(W, X)\n",
    "    err = calc_mse(y, y_pred)\n",
    "    for ii in range(W.shape[0]):\n",
    "        W[ii] -= alpha * (1/n * 2 * np.sum(X[ii] * (y_pred - y)))\n",
    "    \n",
    "    if i % 2000 == 0:\n",
    "        print(i, W, err)\n",
    "    if err < 45.9375: # останавливаемся когода ошибка станет меньше 45,9375 (т.е перестанет меняться)\n",
    "        break\n",
    "print(i, W, err)"
   ]
  },
  {
   "cell_type": "markdown",
   "metadata": {},
   "source": [
    "###### при alpha = 1e-3 (0,001) оптимальное количество итераций 18532"
   ]
  },
  {
   "cell_type": "markdown",
   "metadata": {},
   "source": [
    "#### 2. В этом коде мы избавляемся от итераций по весам, но тут есть ошибка, исправьте ее:"
   ]
  },
  {
   "cell_type": "code",
   "execution_count": 61,
   "metadata": {},
   "outputs": [
    {
     "name": "stdout",
     "output_type": "stream",
     "text": [
      "0 [47.23214285  3.91071429] 45.93749999999999\n",
      "100 [47.23214285  3.91071429] 45.937499999999986\n",
      "200 [47.23214285  3.91071429] 45.937499999999986\n",
      "300 [47.23214285  3.91071429] 45.93749999999999\n",
      "400 [47.23214285  3.91071429] 45.93750000000001\n",
      "500 [47.23214285  3.91071429] 45.93749999999999\n",
      "600 [47.23214285  3.91071429] 45.93750000000001\n",
      "700 [47.23214285  3.91071429] 45.937499999999986\n",
      "800 [47.23214285  3.91071429] 45.93749999999999\n",
      "900 [47.23214285  3.91071429] 45.93750000000001\n"
     ]
    }
   ],
   "source": [
    "for i in range(1000):\n",
    "  y_pred = np.dot(W, X)\n",
    "  err = calc_mse(y, y_pred)\n",
    "  '''for ii in range(W.shape[0]):\n",
    "    W[ii] -= alpha * (1/n * 2 * np.sum(X[ii] * (y_pred - y)))'''\n",
    "  # Было W -= (alpha * (1/n * 2 * np.sum(X * (y_pred - y)))),\n",
    "  W -= alpha * (1/n * 2 * np.sum(X * (y_pred - y), axis=ii))\n",
    "  if i % 100 == 0:\n",
    "    print(i, W, err)"
   ]
  },
  {
   "cell_type": "code",
   "execution_count": null,
   "metadata": {},
   "outputs": [],
   "source": []
  }
 ],
 "metadata": {
  "kernelspec": {
   "display_name": "Python 3",
   "language": "python",
   "name": "python3"
  },
  "language_info": {
   "codemirror_mode": {
    "name": "ipython",
    "version": 3
   },
   "file_extension": ".py",
   "mimetype": "text/x-python",
   "name": "python",
   "nbconvert_exporter": "python",
   "pygments_lexer": "ipython3",
   "version": "3.8.5"
  }
 },
 "nbformat": 4,
 "nbformat_minor": 4
}
